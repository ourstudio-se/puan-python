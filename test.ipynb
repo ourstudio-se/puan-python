{
 "cells": [
  {
   "cell_type": "code",
   "execution_count": 1,
   "metadata": {},
   "outputs": [],
   "source": [
    "import numpy as np\n",
    "import functools\n",
    "import itertools"
   ]
  },
  {
   "cell_type": "code",
   "execution_count": 69,
   "metadata": {},
   "outputs": [],
   "source": [
    "def ncomb_dist(variants) -> tuple:\n",
    "\n",
    "    \"\"\"\n",
    "        variants is for instance\n",
    "        [\n",
    "            [0,1,2,3], <- meaning the numbers 0 xor 1 xor 2 xor 3\n",
    "            [0,2] <- meaning the numbers 0 xor 2 \n",
    "        ]\n",
    "\n",
    "        Returns:\n",
    "            (\n",
    "                total number of combinations,\n",
    "                sum span,\n",
    "                distribution\n",
    "            )\n",
    "    \"\"\"\n",
    "    n = np.prod(list(map(len, variants)))\n",
    "    span = [sum(map(min, variants)), sum(map(max, variants))]\n",
    "    sums = list(map(sum, itertools.product(*variants)))\n",
    "    sums_dict = dict(sorted(Counter(sums).items(), key=lambda x: x[0]))\n",
    "    return n, span, sums_dict\n"
   ]
  },
  {
   "cell_type": "code",
   "execution_count": 81,
   "metadata": {},
   "outputs": [
    {
     "data": {
      "text/plain": [
       "(12, [-1, 3], {-1: 1, 0: 3, 1: 4, 2: 3, 3: 1})"
      ]
     },
     "execution_count": 81,
     "metadata": {},
     "output_type": "execute_result"
    }
   ],
   "source": [
    "variants = [\n",
    "    [0,-1,-2],\n",
    "    [0,-1],\n",
    "    [0,-1],\n",
    "    [3] # <- bias \n",
    "]\n",
    "ncomb_dist(variants)"
   ]
  },
  {
   "cell_type": "code",
   "execution_count": 73,
   "metadata": {},
   "outputs": [
    {
     "data": {
      "text/plain": [
       "(16, [-5, 1], {-5: 1, -4: 2, -3: 3, -2: 4, -1: 3, 0: 2, 1: 1})"
      ]
     },
     "execution_count": 73,
     "metadata": {},
     "output_type": "execute_result"
    }
   ],
   "source": [
    "variants = [\n",
    "    [0,2],\n",
    "    [0,2],\n",
    "    [0,1],\n",
    "    [0,1],\n",
    "    [-5] # <- bias \n",
    "]\n",
    "ncomb_dist(variants)"
   ]
  },
  {
   "cell_type": "code",
   "execution_count": 82,
   "metadata": {},
   "outputs": [],
   "source": [
    "v = np.array([\n",
    "    [0,0,0],\n",
    "    [1,1,1]\n",
    "])\n",
    "h = np.array([\n",
    "    [0,0],\n",
    "    [1,1]\n",
    "])"
   ]
  },
  {
   "cell_type": "code",
   "execution_count": 85,
   "metadata": {},
   "outputs": [
    {
     "data": {
      "text/plain": [
       "array([0, 0, 1, 2, 3, 4])"
      ]
     },
     "execution_count": 85,
     "metadata": {},
     "output_type": "execute_result"
    }
   ],
   "source": [
    "np.hstack(([0,0,1], [2,3,4]))"
   ]
  },
  {
   "cell_type": "code",
   "execution_count": 4,
   "metadata": {},
   "outputs": [
    {
     "data": {
      "text/plain": [
       "{(0, 0, 0): 0,\n",
       " (0, 0, 1): 1,\n",
       " (0, 1, 0): 1,\n",
       " (0, 1, 1): 2,\n",
       " (1, 0, 0): 1,\n",
       " (1, 0, 1): 2,\n",
       " (1, 1, 0): 2,\n",
       " (1, 1, 1): 3,\n",
       " (2, 0, 0): 2,\n",
       " (2, 0, 1): 3,\n",
       " (2, 1, 0): 3,\n",
       " (2, 1, 1): 4}"
      ]
     },
     "execution_count": 4,
     "metadata": {},
     "output_type": "execute_result"
    }
   ],
   "source": [
    "combs = list(itertools.product([0,1,2],[0,1],[0,1]))\n",
    "sums = list(map(sum, combs))\n",
    "dict(zip(combs, sums))"
   ]
  },
  {
   "cell_type": "code",
   "execution_count": null,
   "metadata": {},
   "outputs": [],
   "source": []
  }
 ],
 "metadata": {
  "kernelspec": {
   "display_name": "Python 3.9.12 ('puan')",
   "language": "python",
   "name": "python3"
  },
  "language_info": {
   "codemirror_mode": {
    "name": "ipython",
    "version": 3
   },
   "file_extension": ".py",
   "mimetype": "text/x-python",
   "name": "python",
   "nbconvert_exporter": "python",
   "pygments_lexer": "ipython3",
   "version": "3.9.12"
  },
  "orig_nbformat": 4,
  "vscode": {
   "interpreter": {
    "hash": "54bb68f4a31c854bd3d9d4eb747c28154a9665f58f46cc1a475e482d7ffa66b7"
   }
  }
 },
 "nbformat": 4,
 "nbformat_minor": 2
}
